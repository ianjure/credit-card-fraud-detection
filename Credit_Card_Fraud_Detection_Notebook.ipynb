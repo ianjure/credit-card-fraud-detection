{
  "cells": [
    {
      "cell_type": "markdown",
      "metadata": {
        "id": "PVNUFJ8jQ6ux"
      },
      "source": [
        "[![Open In Colab](https://colab.research.google.com/assets/colab-badge.svg)](https://colab.research.google.com/github/ianjure/credit-card-fraud-detection/blob/main/Credit_Card_Fraud_Detection_Notebook.ipynb)"
      ]
    },
    {
      "cell_type": "markdown",
      "metadata": {
        "id": "2Ft7lJuZRAmI"
      },
      "source": [
        "**Author:** Ian Jure Macalisang\n",
        "\n",
        "**Email:** ianjuremacalisang2@gmail.com\n",
        "\n",
        "**Link:** https://github.com/ianjure/credit-card-fraud-detection"
      ]
    },
    {
      "cell_type": "markdown",
      "metadata": {
        "id": "pFqKm6vTRDru"
      },
      "source": [
        "**NOTE**: UPLOAD **[creditcard.csv](https://www.kaggle.com/datasets/mlg-ulb/creditcardfraud)** FIRST!"
      ]
    },
    {
      "cell_type": "markdown",
      "metadata": {
        "id": "z8MXNe_dUcUC"
      },
      "source": [
        "# **I. Importing the Data**"
      ]
    },
    {
      "cell_type": "code",
      "execution_count": null,
      "metadata": {
        "id": "f1uN7us_RTL0"
      },
      "outputs": [],
      "source": [
        "# IMPORTING LIBRARIES\n",
        "\n",
        "import numpy as np\n",
        "import pandas as pd\n",
        "import seaborn as sns\n",
        "import matplotlib.pyplot as plt"
      ]
    },
    {
      "cell_type": "code",
      "execution_count": null,
      "metadata": {
        "id": "xHwPYFo7Raee"
      },
      "outputs": [],
      "source": [
        "# READING THE DATA\n",
        "\n",
        "data = pd.read_csv('creditcard.csv')"
      ]
    },
    {
      "cell_type": "markdown",
      "metadata": {
        "id": "MhkiaPb_UliH"
      },
      "source": [
        "# **II. Exploring the Data**"
      ]
    },
    {
      "cell_type": "code",
      "execution_count": null,
      "metadata": {
        "colab": {
          "base_uri": "https://localhost:8080/"
        },
        "id": "nBvW-XXSRnwQ",
        "outputId": "a54ccce3-22cf-483c-c71b-904adecb954a"
      },
      "outputs": [
        {
          "name": "stdout",
          "output_type": "stream",
          "text": [
            "HEAD:\n",
            "   Time        V1        V2        V3        V4        V5        V6        V7  \\\n",
            "0   0.0 -1.359807 -0.072781  2.536347  1.378155 -0.338321  0.462388  0.239599   \n",
            "1   0.0  1.191857  0.266151  0.166480  0.448154  0.060018 -0.082361 -0.078803   \n",
            "2   1.0 -1.358354 -1.340163  1.773209  0.379780 -0.503198  1.800499  0.791461   \n",
            "3   1.0 -0.966272 -0.185226  1.792993 -0.863291 -0.010309  1.247203  0.237609   \n",
            "4   2.0 -1.158233  0.877737  1.548718  0.403034 -0.407193  0.095921  0.592941   \n",
            "\n",
            "         V8        V9  ...       V21       V22       V23       V24       V25  \\\n",
            "0  0.098698  0.363787  ... -0.018307  0.277838 -0.110474  0.066928  0.128539   \n",
            "1  0.085102 -0.255425  ... -0.225775 -0.638672  0.101288 -0.339846  0.167170   \n",
            "2  0.247676 -1.514654  ...  0.247998  0.771679  0.909412 -0.689281 -0.327642   \n",
            "3  0.377436 -1.387024  ... -0.108300  0.005274 -0.190321 -1.175575  0.647376   \n",
            "4 -0.270533  0.817739  ... -0.009431  0.798278 -0.137458  0.141267 -0.206010   \n",
            "\n",
            "        V26       V27       V28  Amount  Class  \n",
            "0 -0.189115  0.133558 -0.021053  149.62      0  \n",
            "1  0.125895 -0.008983  0.014724    2.69      0  \n",
            "2 -0.139097 -0.055353 -0.059752  378.66      0  \n",
            "3 -0.221929  0.062723  0.061458  123.50      0  \n",
            "4  0.502292  0.219422  0.215153   69.99      0  \n",
            "\n",
            "[5 rows x 31 columns] \n",
            "\n",
            "SHAPE:\n",
            "(284807, 31) \n",
            "\n",
            "INFO:\n",
            "                Time            V1            V2            V3            V4  \\\n",
            "count  284807.000000  2.848070e+05  2.848070e+05  2.848070e+05  2.848070e+05   \n",
            "mean    94813.859575  1.168375e-15  3.416908e-16 -1.379537e-15  2.074095e-15   \n",
            "std     47488.145955  1.958696e+00  1.651309e+00  1.516255e+00  1.415869e+00   \n",
            "min         0.000000 -5.640751e+01 -7.271573e+01 -4.832559e+01 -5.683171e+00   \n",
            "25%     54201.500000 -9.203734e-01 -5.985499e-01 -8.903648e-01 -8.486401e-01   \n",
            "50%     84692.000000  1.810880e-02  6.548556e-02  1.798463e-01 -1.984653e-02   \n",
            "75%    139320.500000  1.315642e+00  8.037239e-01  1.027196e+00  7.433413e-01   \n",
            "max    172792.000000  2.454930e+00  2.205773e+01  9.382558e+00  1.687534e+01   \n",
            "\n",
            "                 V5            V6            V7            V8            V9  \\\n",
            "count  2.848070e+05  2.848070e+05  2.848070e+05  2.848070e+05  2.848070e+05   \n",
            "mean   9.604066e-16  1.487313e-15 -5.556467e-16  1.213481e-16 -2.406331e-15   \n",
            "std    1.380247e+00  1.332271e+00  1.237094e+00  1.194353e+00  1.098632e+00   \n",
            "min   -1.137433e+02 -2.616051e+01 -4.355724e+01 -7.321672e+01 -1.343407e+01   \n",
            "25%   -6.915971e-01 -7.682956e-01 -5.540759e-01 -2.086297e-01 -6.430976e-01   \n",
            "50%   -5.433583e-02 -2.741871e-01  4.010308e-02  2.235804e-02 -5.142873e-02   \n",
            "75%    6.119264e-01  3.985649e-01  5.704361e-01  3.273459e-01  5.971390e-01   \n",
            "max    3.480167e+01  7.330163e+01  1.205895e+02  2.000721e+01  1.559499e+01   \n",
            "\n",
            "       ...           V21           V22           V23           V24  \\\n",
            "count  ...  2.848070e+05  2.848070e+05  2.848070e+05  2.848070e+05   \n",
            "mean   ...  1.654067e-16 -3.568593e-16  2.578648e-16  4.473266e-15   \n",
            "std    ...  7.345240e-01  7.257016e-01  6.244603e-01  6.056471e-01   \n",
            "min    ... -3.483038e+01 -1.093314e+01 -4.480774e+01 -2.836627e+00   \n",
            "25%    ... -2.283949e-01 -5.423504e-01 -1.618463e-01 -3.545861e-01   \n",
            "50%    ... -2.945017e-02  6.781943e-03 -1.119293e-02  4.097606e-02   \n",
            "75%    ...  1.863772e-01  5.285536e-01  1.476421e-01  4.395266e-01   \n",
            "max    ...  2.720284e+01  1.050309e+01  2.252841e+01  4.584549e+00   \n",
            "\n",
            "                V25           V26           V27           V28         Amount  \\\n",
            "count  2.848070e+05  2.848070e+05  2.848070e+05  2.848070e+05  284807.000000   \n",
            "mean   5.340915e-16  1.683437e-15 -3.660091e-16 -1.227390e-16      88.349619   \n",
            "std    5.212781e-01  4.822270e-01  4.036325e-01  3.300833e-01     250.120109   \n",
            "min   -1.029540e+01 -2.604551e+00 -2.256568e+01 -1.543008e+01       0.000000   \n",
            "25%   -3.171451e-01 -3.269839e-01 -7.083953e-02 -5.295979e-02       5.600000   \n",
            "50%    1.659350e-02 -5.213911e-02  1.342146e-03  1.124383e-02      22.000000   \n",
            "75%    3.507156e-01  2.409522e-01  9.104512e-02  7.827995e-02      77.165000   \n",
            "max    7.519589e+00  3.517346e+00  3.161220e+01  3.384781e+01   25691.160000   \n",
            "\n",
            "               Class  \n",
            "count  284807.000000  \n",
            "mean        0.001727  \n",
            "std         0.041527  \n",
            "min         0.000000  \n",
            "25%         0.000000  \n",
            "50%         0.000000  \n",
            "75%         0.000000  \n",
            "max         1.000000  \n",
            "\n",
            "[8 rows x 31 columns] \n",
            "\n",
            "NULL VALUES:\n",
            "Time      0\n",
            "V1        0\n",
            "V2        0\n",
            "V3        0\n",
            "V4        0\n",
            "V5        0\n",
            "V6        0\n",
            "V7        0\n",
            "V8        0\n",
            "V9        0\n",
            "V10       0\n",
            "V11       0\n",
            "V12       0\n",
            "V13       0\n",
            "V14       0\n",
            "V15       0\n",
            "V16       0\n",
            "V17       0\n",
            "V18       0\n",
            "V19       0\n",
            "V20       0\n",
            "V21       0\n",
            "V22       0\n",
            "V23       0\n",
            "V24       0\n",
            "V25       0\n",
            "V26       0\n",
            "V27       0\n",
            "V28       0\n",
            "Amount    0\n",
            "Class     0\n",
            "dtype: int64 \n",
            "\n"
          ]
        }
      ],
      "source": [
        "# INSPECTING THE DATA [PART I]\n",
        "\n",
        "print('HEAD:')\n",
        "print(data.head(), '\\n')\n",
        "\n",
        "print('SHAPE:')\n",
        "print(data.shape, '\\n')\n",
        "\n",
        "print('INFO:')\n",
        "print(data.describe(), '\\n')\n",
        "\n",
        "print('NULL VALUES:')\n",
        "print(data.isnull().sum(), '\\n')"
      ]
    },
    {
      "cell_type": "code",
      "execution_count": null,
      "metadata": {
        "colab": {
          "base_uri": "https://localhost:8080/"
        },
        "id": "iu_NA-aFSeIg",
        "outputId": "9bf4956e-5ae3-4717-9a2a-01bedbeddb4d"
      },
      "outputs": [
        {
          "name": "stdout",
          "output_type": "stream",
          "text": [
            "Fraud / Valid Percentage: 0.173%\n",
            "Fraud Cases: 492\n",
            "Valid Transactions: 284315\n"
          ]
        }
      ],
      "source": [
        "# INSPECTING THE DATA [PART II]\n",
        "\n",
        "fraud = data[data['Class'] == 1]\n",
        "valid = data[data['Class'] == 0]\n",
        "percentage = len(fraud)/float(len(valid))\n",
        "\n",
        "print(f'Fraud / Valid Percentage: {percentage * 100 :.3f}%')\n",
        "print(f'Fraud Cases: {len(fraud)}')\n",
        "print(f'Valid Transactions: {len(valid)}')"
      ]
    },
    {
      "cell_type": "markdown",
      "metadata": {
        "id": "iX2knhinTuxB"
      },
      "source": [
        "Only **0.173%** fraudulent transaction out all the transactions. The data is **highly unbalanced**."
      ]
    },
    {
      "cell_type": "code",
      "execution_count": null,
      "metadata": {
        "colab": {
          "base_uri": "https://localhost:8080/"
        },
        "id": "bjhvdBeITz5m",
        "outputId": "8a302c98-3d3a-4dd1-aa09-3244dac38d94"
      },
      "outputs": [
        {
          "name": "stdout",
          "output_type": "stream",
          "text": [
            "FRAUD INFO:\n",
            "count     492.000000\n",
            "mean      122.211321\n",
            "std       256.683288\n",
            "min         0.000000\n",
            "25%         1.000000\n",
            "50%         9.250000\n",
            "75%       105.890000\n",
            "max      2125.870000\n",
            "Name: Amount, dtype: float64\n"
          ]
        }
      ],
      "source": [
        "# FRAUD AMOUNT INFO\n",
        "\n",
        "print('FRAUD INFO:')\n",
        "print(fraud.Amount.describe())"
      ]
    },
    {
      "cell_type": "code",
      "execution_count": null,
      "metadata": {
        "colab": {
          "base_uri": "https://localhost:8080/"
        },
        "id": "uJWpL_ubURu3",
        "outputId": "ee47fc13-108c-41b3-ea4c-afb4b8a2991d"
      },
      "outputs": [
        {
          "name": "stdout",
          "output_type": "stream",
          "text": [
            "VALID INFO:\n",
            "count    284315.000000\n",
            "mean         88.291022\n",
            "std         250.105092\n",
            "min           0.000000\n",
            "25%           5.650000\n",
            "50%          22.000000\n",
            "75%          77.050000\n",
            "max       25691.160000\n",
            "Name: Amount, dtype: float64\n"
          ]
        }
      ],
      "source": [
        "# VALID AMOUNT INFO\n",
        "\n",
        "print('VALID INFO:')\n",
        "print(valid.Amount.describe())"
      ]
    },
    {
      "cell_type": "markdown",
      "metadata": {
        "id": "2N7ir1pZUvgb"
      },
      "source": [
        "# **III. Visualizing the Data**"
      ]
    },
    {
      "cell_type": "code",
      "execution_count": null,
      "metadata": {
        "colab": {
          "base_uri": "https://localhost:8080/"
        },
        "id": "sqwAlguqUZu7",
        "outputId": "9788da5a-beac-4d5e-d667-379218279a27"
      },
      "outputs": [
        {
          "data": {
            "image/png": "[encoded data removed]",
            "text/plain": [
              "<Figure size 1000x900 with 2 Axes>"
            ]
          },
          "metadata": {},
          "output_type": "display_data"
        }
      ],
      "source": [
        "# CORRELATION MATRIX\n",
        "\n",
        "corrmat = data.corr()\n",
        "fig = plt.figure(figsize = (10, 9))\n",
        "sns.heatmap(corrmat, vmax = .8, square = True)\n",
        "plt.show()"
      ]
    },
    {
      "cell_type": "markdown",
      "metadata": {
        "id": "JwCNxMteVNOr"
      },
      "source": [
        "# **IV. Training the Models**"
      ]
    },
    {
      "cell_type": "code",
      "execution_count": 47,
      "metadata": {
        "id": "Wbr4gZRbZZS5"
      },
      "outputs": [],
      "source": [
        "# IMPORTING TOOLS FOR MODEL EVALUATIONS\n",
        "\n",
        "from sklearn.metrics import accuracy_score, precision_score, recall_score, f1_score, matthews_corrcoef"
      ]
    },
    {
      "cell_type": "code",
      "execution_count": null,
      "metadata": {
        "colab": {
          "base_uri": "https://localhost:8080/"
        },
        "id": "FQCz6W6PVSRA",
        "outputId": "4053f661-507d-495c-e42f-5e3512c16edb"
      },
      "outputs": [
        {
          "name": "stdout",
          "output_type": "stream",
          "text": [
            "FEATURES (X):  (284807, 29)\n",
            "TARGET (Y):  (284807,)\n"
          ]
        }
      ],
      "source": [
        "# DIVIDING THE FEATURES (X) AND THE TARGET (Y) FROM THE DATASET\n",
        "\n",
        "X = data.drop(['Class','Time'], axis = 1)\n",
        "Y = data[\"Class\"]\n",
        "print('FEATURES (X): ', X.shape)\n",
        "print('TARGET (Y): ', Y.shape)\n",
        "\n",
        "# GETTING JUST THE VALUES FOR THE SAKE OF PROCESSING (NUMPY ARRAY WITH NO COLUMNS)\n",
        "\n",
        "xData = X.values\n",
        "yData = Y.values"
      ]
    },
    {
      "cell_type": "code",
      "execution_count": null,
      "metadata": {
        "colab": {
          "base_uri": "https://localhost:8080/"
        },
        "id": "mfYQHJzKWAtI",
        "outputId": "a5a78b38-4d6e-41ad-d684-44c675c9147a"
      },
      "outputs": [
        {
          "name": "stdout",
          "output_type": "stream",
          "text": [
            "(227845, 29) (56962, 29) (227845,) (56962,)\n"
          ]
        }
      ],
      "source": [
        "# SPLITTING THE DATA INTRO TRAINING AND TESTING SETS\n",
        "\n",
        "from sklearn.model_selection import train_test_split\n",
        "\n",
        "xTrain, xTest, yTrain, yTest = train_test_split(xData, yData, test_size = 0.2, random_state = 42)\n",
        "print(xTrain.shape, xTest.shape, yTrain.shape, yTest.shape)"
      ]
    },
    {
      "cell_type": "markdown",
      "metadata": {
        "id": "W-lvzPI4WTSu"
      },
      "source": [
        "## **A. Random Forest Classifier**\n",
        "\n",
        "> Random Forest is a commonly-used machine learning algorithm, trademarked by Leo Breiman and Adele Cutler, that combines the output of multiple decision trees to reach a single result. Its ease of use and flexibility have fueled its adoption, as it handles both classification and regression problems."
      ]
    },
    {
      "cell_type": "code",
      "execution_count": null,
      "metadata": {
        "id": "rasU72a-WRea"
      },
      "outputs": [],
      "source": [
        "# USING RANDOM FOREST CLASSIFIER\n",
        "\n",
        "from sklearn.ensemble import RandomForestClassifier\n",
        "\n",
        "rfc = RandomForestClassifier(random_state=1)\n",
        "rfc.fit(xTrain, yTrain)"
      ]
    },
    {
      "cell_type": "code",
      "execution_count": null,
      "metadata": {
        "id": "APJqOK_rW9tg"
      },
      "outputs": [],
      "source": [
        "# PREDICTION\n",
        "\n",
        "rfc_yPred = rfc.predict(xTest)"
      ]
    },
    {
      "cell_type": "code",
      "execution_count": null,
      "metadata": {
        "colab": {
          "base_uri": "https://localhost:8080/"
        },
        "id": "mmtRrY9iXefY",
        "outputId": "a0341f8a-1066-42ac-ac56-b5e8de573dbb"
      },
      "outputs": [
        {
          "name": "stdout",
          "output_type": "stream",
          "text": [
            "RANDOM FOREST CLASSIFIER \n",
            "\n",
            "Total Errors: 24\n",
            "Accuracy: 0.9995786664794073\n",
            "Precision: 0.9625\n",
            "Recall: 0.7857142857142857\n",
            "F1-Score: 0.8651685393258427\n",
            "Matthews Correlation Coefficient: 0.8694303688259544\n"
          ]
        }
      ],
      "source": [
        "# EVALUATING THE MODEL\n",
        "\n",
        "print('RANDOM FOREST CLASSIFIER \\n')\n",
        "\n",
        "rfc_errors = (rfc_yPred != yTest).sum()\n",
        "print(f'Total Errors: {rfc_errors}')\n",
        "\n",
        "rfc_acc = accuracy_score(yTest, rfc_yPred)\n",
        "print(f\"Accuracy: {rfc_acc}\")\n",
        "\n",
        "rfc_prec = precision_score(yTest, rfc_yPred)\n",
        "print(f'Precision: {rfc_prec}')\n",
        "\n",
        "rfc_rec = recall_score(yTest, rfc_yPred)\n",
        "print(f'Recall: {rfc_rec}')\n",
        "\n",
        "rfc_f1 = f1_score(yTest, rfc_yPred)\n",
        "print(f'F1-Score: {rfc_f1}')\n",
        "\n",
        "rfc_mcc = matthews_corrcoef(yTest, rfc_yPred)\n",
        "print(f'Matthews Correlation Coefficient: {rfc_mcc}')"
      ]
    },
    {
      "cell_type": "markdown",
      "metadata": {
        "id": "BNEynE2-adHv"
      },
      "source": [
        "## **B. Bernoulli Naive Bayes Classifier**\n",
        "\n",
        "> Naive Bayes are simple probabilistic classifiers that apply Bayes' theorem. This theorem is based on the probability of a hypothesis, given the data and some prior knowledge.\n",
        "\n",
        "> Like MultinomialNB, this classifier is suitable for discrete data. The difference is that while MultinomialNB works with occurrence counts, BernoulliNB is designed for binary/boolean features.\n",
        "\n"
      ]
    },
    {
      "cell_type": "code",
      "execution_count": null,
      "metadata": {
        "id": "c8ymLYA4aqwm"
      },
      "outputs": [],
      "source": [
        "# USING BERNOULLI NAIVE BAYES\n",
        "\n",
        "from sklearn.naive_bayes import BernoulliNB\n",
        "\n",
        "bnb = BernoulliNB()\n",
        "bnb.fit(xTrain, yTrain)"
      ]
    },
    {
      "cell_type": "code",
      "execution_count": null,
      "metadata": {
        "id": "Z_0tPTjvcszs"
      },
      "outputs": [],
      "source": [
        "# PREDICTION\n",
        "\n",
        "bnb_yPred = bnb.predict(xTest)"
      ]
    },
    {
      "cell_type": "code",
      "execution_count": 50,
      "metadata": {
        "colab": {
          "base_uri": "https://localhost:8080/"
        },
        "id": "Z-xwUGmxdB4f",
        "outputId": "98c42ce3-28d6-4bdd-ffd6-ceeb0d38303b"
      },
      "outputs": [
        {
          "output_type": "stream",
          "name": "stdout",
          "text": [
            "BERNOULLI NAIVE BAYES CLASSIFIER\n",
            "\n",
            "Total Errors: 51\n",
            "Accuracy: 0.9991046662687406\n",
            "Precision: 0.8051948051948052\n",
            "Recall: 0.6326530612244898\n",
            "F1-Score: 0.7085714285714286\n",
            "Matthews Correlation Coefficient: 0.7132996194053766\n"
          ]
        }
      ],
      "source": [
        "# EVALUATING THE MODEL\n",
        "\n",
        "print('BERNOULLI NAIVE BAYES CLASSIFIER\\n')\n",
        "\n",
        "bnb_errors = (bnb_yPred != yTest).sum()\n",
        "print(f'Total Errors: {bnb_errors}')\n",
        "\n",
        "bnb_acc = accuracy_score(yTest, bnb_yPred)\n",
        "print(f\"Accuracy: {bnb_acc}\")\n",
        "\n",
        "bnb_prec = precision_score(yTest, bnb_yPred)\n",
        "print(f'Precision: {bnb_prec}')\n",
        "\n",
        "bnb_rec = recall_score(yTest, bnb_yPred)\n",
        "print(f'Recall: {bnb_rec}')\n",
        "\n",
        "bnb_f1 = f1_score(yTest, bnb_yPred)\n",
        "print(f'F1-Score: {bnb_f1}')\n",
        "\n",
        "bnb_mcc = matthews_corrcoef(yTest, bnb_yPred)\n",
        "print(f'Matthews Correlation Coefficient: {bnb_mcc}')"
      ]
    },
    {
      "cell_type": "markdown",
      "metadata": {
        "id": "AZX0hll1nm0S"
      },
      "source": [
        "## **C. Decision Tree Classifier**\n",
        "\n",
        "> A Decision Tree is a type of supervised machine learning used to categorize or make predictions based on how a previous set of questions were answered."
      ]
    },
    {
      "cell_type": "code",
      "execution_count": null,
      "metadata": {
        "id": "Qwaw_gn1oOLW"
      },
      "outputs": [],
      "source": [
        "# USING DECISION TREE CLASSIFIER\n",
        "\n",
        "from sklearn.tree import DecisionTreeClassifier\n",
        "\n",
        "dtc = DecisionTreeClassifier()\n",
        "dtc.fit(xTrain, yTrain)"
      ]
    },
    {
      "cell_type": "code",
      "execution_count": null,
      "metadata": {
        "id": "aVjBUCXdog1_"
      },
      "outputs": [],
      "source": [
        "# PREDICTION\n",
        "\n",
        "dtc_yPred = dtc.predict(xTest)"
      ]
    },
    {
      "cell_type": "code",
      "execution_count": null,
      "metadata": {
        "colab": {
          "base_uri": "https://localhost:8080/"
        },
        "id": "0tg45U76olGF",
        "outputId": "4440c10d-b73b-4612-bdb2-ef094a9ae2c7"
      },
      "outputs": [
        {
          "name": "stdout",
          "output_type": "stream",
          "text": [
            "DECISION TREE CLASSIFIER \n",
            "\n",
            "Total Errors: 47\n",
            "Accuracy: 0.9991748885221726\n",
            "Precision: 0.7428571428571429\n",
            "Recall: 0.7959183673469388\n",
            "F1-Score: 0.768472906403941\n",
            "Matthews Correlation Coefficient: 0.768518781857732\n"
          ]
        }
      ],
      "source": [
        "# EVALUATING THE MODEL\n",
        "\n",
        "print('DECISION TREE CLASSIFIER \\n')\n",
        "\n",
        "dtc_errors = (dtc_yPred != yTest).sum()\n",
        "print(f'Total Errors: {dtc_errors}')\n",
        "\n",
        "dtc_acc = accuracy_score(yTest, dtc_yPred)\n",
        "print(f\"Accuracy: {dtc_acc}\")\n",
        "\n",
        "dtc_prec = precision_score(yTest, dtc_yPred)\n",
        "print(f'Precision: {dtc_prec}')\n",
        "\n",
        "dtc_rec = recall_score(yTest, dtc_yPred)\n",
        "print(f'Recall: {dtc_rec}')\n",
        "\n",
        "dtc_f1 = f1_score(yTest, dtc_yPred)\n",
        "print(f'F1-Score: {dtc_f1}')\n",
        "\n",
        "dtc_mcc = matthews_corrcoef(yTest, dtc_yPred)\n",
        "print(f'Matthews Correlation Coefficient: {dtc_mcc}')"
      ]
    },
    {
      "cell_type": "markdown",
      "metadata": {
        "id": "A76kLoaupSsx"
      },
      "source": [
        "## **D. Gradient Boosted Decision Tree Classifier**\n",
        "\n",
        "> In gradient boosting, an ensemble of weak learners is used to improve the performance of a machine learning model. The weak learners are usually decision trees. Combined, their output results in better models. In case of regression, the final result is generated from the average of all weak learners."
      ]
    },
    {
      "cell_type": "code",
      "execution_count": null,
      "metadata": {
        "colab": {
          "background_save": true
        },
        "id": "kceb95rNpxpo"
      },
      "outputs": [],
      "source": [
        "# USING GRADIENT BOOSTED DECISION TREE CLASSIFIER\n",
        "\n",
        "from sklearn.ensemble import GradientBoostingClassifier\n",
        "\n",
        "gbc = GradientBoostingClassifier()\n",
        "gbc.fit(xTrain, yTrain)"
      ]
    },
    {
      "cell_type": "code",
      "execution_count": null,
      "metadata": {
        "colab": {
          "background_save": true
        },
        "id": "tteQilTvp6Ff"
      },
      "outputs": [],
      "source": [
        "# PREDICTION\n",
        "\n",
        "gbc_yPred = gbc.predict(xTest)"
      ]
    },
    {
      "cell_type": "code",
      "execution_count": null,
      "metadata": {
        "colab": {
          "background_save": true
        },
        "id": "7eiYcZAKp7KG",
        "outputId": "e87af2b2-1bcc-4a7d-df3e-ae6a7937b76d"
      },
      "outputs": [
        {
          "name": "stdout",
          "output_type": "stream",
          "text": [
            "GRADIENT BOOSTED DECISION TREE CLASSIFIER \n",
            "\n",
            "Total Errors: 60\n",
            "Accuracy: 0.9989466661985184\n",
            "Precision: 0.7375\n",
            "Recall: 0.6020408163265306\n",
            "F1-Score: 0.6629213483146067\n",
            "Matthews Correlation Coefficient: 0.6658229627249665\n"
          ]
        }
      ],
      "source": [
        "# EVALUATING THE MODEL\n",
        "\n",
        "print('GRADIENT BOOSTED DECISION TREE CLASSIFIER \\n')\n",
        "\n",
        "gbc_errors = (gbc_yPred != yTest).sum()\n",
        "print(f'Total Errors: {gbc_errors}')\n",
        "\n",
        "gbc_acc = accuracy_score(yTest, gbc_yPred)\n",
        "print(f\"Accuracy: {gbc_acc}\")\n",
        "\n",
        "gbc_prec = precision_score(yTest, gbc_yPred)\n",
        "print(f'Precision: {gbc_prec}')\n",
        "\n",
        "gbc_rec = recall_score(yTest, gbc_yPred)\n",
        "print(f'Recall: {gbc_rec}')\n",
        "\n",
        "gbc_f1 = f1_score(yTest, gbc_yPred)\n",
        "print(f'F1-Score: {gbc_f1}')\n",
        "\n",
        "gbc_mcc = matthews_corrcoef(yTest, gbc_yPred)\n",
        "print(f'Matthews Correlation Coefficient: {gbc_mcc}')"
      ]
    },
    {
      "cell_type": "markdown",
      "metadata": {
        "id": "LcJrbV7HtY-0"
      },
      "source": [
        "## **E. Adaptive Boosted Decision Stump Classifier**\n",
        "\n",
        "> A decision stump is a machine learning model consisting of a one-level decision tree. That is, it is a decision tree with one internal node (the root) which is immediately connected to the terminal nodes (its leaves). A decision stump makes a prediction based on the value of just a single input feature.\n",
        "\n",
        "> AdaBoost algorithm, short for Adaptive Boosting, is a Boosting technique used as an Ensemble Method in Machine Learning. It is called Adaptive Boosting as the weights are re-assigned to each instance, with higher weights assigned to incorrectly classified instances.\n",
        "\n",
        "> Ensemble learning is a machine learning technique that enhances accuracy and resilience in forecasting by merging predictions from multiple models"
      ]
    },
    {
      "cell_type": "code",
      "execution_count": null,
      "metadata": {
        "colab": {
          "background_save": true
        },
        "id": "BVY8XJ1jt0cg"
      },
      "outputs": [],
      "source": [
        "# USING ADABOOSTED DECISION STUMP CLASSIFIER\n",
        "\n",
        "from sklearn.ensemble import AdaBoostClassifier\n",
        "\n",
        "abc = AdaBoostClassifier()\n",
        "abc.fit(xTrain, yTrain)"
      ]
    },
    {
      "cell_type": "code",
      "execution_count": null,
      "metadata": {
        "colab": {
          "background_save": true
        },
        "id": "Q3h4K91kyvZI"
      },
      "outputs": [],
      "source": [
        "# PREDICTION\n",
        "\n",
        "abc_yPred = gbc.predict(xTest)"
      ]
    },
    {
      "cell_type": "code",
      "execution_count": null,
      "metadata": {
        "colab": {
          "background_save": true
        },
        "id": "fiEuEvNQywdb",
        "outputId": "eb2b6b6f-5f61-47c0-e804-dc24ae4136a3"
      },
      "outputs": [
        {
          "name": "stdout",
          "output_type": "stream",
          "text": [
            "ADAPTIVE BOOSTED DECISION STUMP CLASSIFIER \n",
            "\n",
            "Total Errors: 60\n",
            "Accuracy: 0.9989466661985184\n",
            "Precision: 0.7375\n",
            "Recall: 0.6020408163265306\n",
            "F1-Score: 0.6629213483146067\n",
            "Matthews Correlation Coefficient: 0.6658229627249665\n"
          ]
        }
      ],
      "source": [
        "# EVALUATING THE MODEL\n",
        "\n",
        "print('ADAPTIVE BOOSTED DECISION STUMP CLASSIFIER \\n')\n",
        "\n",
        "abc_errors = (abc_yPred != yTest).sum()\n",
        "print(f'Total Errors: {abc_errors}')\n",
        "\n",
        "abc_acc = accuracy_score(yTest, abc_yPred)\n",
        "print(f\"Accuracy: {abc_acc}\")\n",
        "\n",
        "abc_prec = precision_score(yTest, abc_yPred)\n",
        "print(f'Precision: {abc_prec}')\n",
        "\n",
        "abc_rec = recall_score(yTest, abc_yPred)\n",
        "print(f'Recall: {abc_rec}')\n",
        "\n",
        "abc_f1 = f1_score(yTest, abc_yPred)\n",
        "print(f'F1-Score: {abc_f1}')\n",
        "\n",
        "abc_mcc = matthews_corrcoef(yTest, abc_yPred)\n",
        "print(f'Matthews Correlation Coefficient: {abc_mcc}')"
      ]
    },
    {
      "cell_type": "markdown",
      "metadata": {
        "id": "_jpoARqz0rLd"
      },
      "source": [
        "## **F. Logistic Regression**\n",
        "\n",
        "> Logistic Regression is a data analysis technique that uses mathematics to find the relationships between two data factors. It then uses this relationship to predict the value of one of those factors based on the other. The prediction usually has a finite number of outcomes, like yes or no."
      ]
    },
    {
      "cell_type": "code",
      "execution_count": null,
      "metadata": {
        "colab": {
          "background_save": true
        },
        "id": "eT0T1bBp07Va"
      },
      "outputs": [],
      "source": [
        "# USING LOGISTIC REGRESSION\n",
        "\n",
        "from sklearn.linear_model import LogisticRegression\n",
        "\n",
        "lr = LogisticRegression()\n",
        "lr.fit(xTrain, yTrain)"
      ]
    },
    {
      "cell_type": "code",
      "execution_count": null,
      "metadata": {
        "colab": {
          "background_save": true
        },
        "id": "IyEb1vwr1E_s"
      },
      "outputs": [],
      "source": [
        "# PREDICTION\n",
        "\n",
        "lr_yPred = lr.predict(xTest)"
      ]
    },
    {
      "cell_type": "code",
      "execution_count": null,
      "metadata": {
        "colab": {
          "background_save": true
        },
        "id": "gZLY-IrS1I30",
        "outputId": "3332012b-3ccc-44ce-9cd4-2ea756ab3943"
      },
      "outputs": [
        {
          "name": "stdout",
          "output_type": "stream",
          "text": [
            "LOGISTIC REGRESSION \n",
            "\n",
            "Total Errors: 57\n",
            "Accuracy: 0.9989993328885924\n",
            "Precision: 0.8059701492537313\n",
            "Recall: 0.5510204081632653\n",
            "F1-Score: 0.6545454545454544\n",
            "Matthews Correlation Coefficient: 0.6659547927256827\n"
          ]
        }
      ],
      "source": [
        "# EVALUATING THE MODEL\n",
        "\n",
        "print('LOGISTIC REGRESSION \\n')\n",
        "\n",
        "lr_errors = (lr_yPred != yTest).sum()\n",
        "print(f'Total Errors: {lr_errors}')\n",
        "\n",
        "lr_acc = accuracy_score(yTest, lr_yPred)\n",
        "print(f\"Accuracy: {lr_acc}\")\n",
        "\n",
        "lr_prec = precision_score(yTest, lr_yPred)\n",
        "print(f'Precision: {lr_prec}')\n",
        "\n",
        "lr_rec = recall_score(yTest, lr_yPred)\n",
        "print(f'Recall: {lr_rec}')\n",
        "\n",
        "lr_f1 = f1_score(yTest, lr_yPred)\n",
        "print(f'F1-Score: {lr_f1}')\n",
        "\n",
        "lr_mcc = matthews_corrcoef(yTest, lr_yPred)\n",
        "print(f'Matthews Correlation Coefficient: {lr_mcc}')"
      ]
    },
    {
      "cell_type": "markdown",
      "metadata": {
        "id": "wxwMhkyd2GrL"
      },
      "source": [
        "## **G. Support Vector Machine**\n",
        "\n",
        "> A Support Vector mMachine (SVM) is defined as a machine learning algorithm that uses supervised learning models to solve complex classification, regression, and outlier detection problems by performing optimal data transformations that determine boundaries between data points based on predefined classes, labels, or outputs."
      ]
    },
    {
      "cell_type": "code",
      "execution_count": null,
      "metadata": {
        "id": "5EwWMlxp5Jb1"
      },
      "outputs": [],
      "source": [
        "# USING SUPPORT VECTOR MACHINE\n",
        "\n",
        "from sklearn.svm import LinearSVC\n",
        "\n",
        "svc = LinearSVC()\n",
        "svc.fit(xTrain, yTrain)"
      ]
    },
    {
      "cell_type": "code",
      "execution_count": 31,
      "metadata": {
        "id": "TXWscSqx5mM0"
      },
      "outputs": [],
      "source": [
        "# PREDICTION\n",
        "\n",
        "svc_yPred = svc.predict(xTest)"
      ]
    },
    {
      "cell_type": "code",
      "execution_count": 32,
      "metadata": {
        "id": "1QL2YlgL5oHL",
        "colab": {
          "base_uri": "https://localhost:8080/"
        },
        "outputId": "44a79fd5-07f1-45a9-9f75-56ae746f1c5b"
      },
      "outputs": [
        {
          "output_type": "stream",
          "name": "stdout",
          "text": [
            "SUPPORT VECTOR MACHINE \n",
            "\n",
            "Total Errors: 72\n",
            "Accuracy: 0.998735999438222\n",
            "Precision: 0.8823529411764706\n",
            "Recall: 0.30612244897959184\n",
            "F1-Score: 0.45454545454545453\n",
            "Matthews Correlation Coefficient: 0.5193076150489533\n"
          ]
        }
      ],
      "source": [
        "# EVALUATING THE MODEL\n",
        "\n",
        "print('SUPPORT VECTOR MACHINE \\n')\n",
        "\n",
        "svc_errors = (svc_yPred != yTest).sum()\n",
        "print(f'Total Errors: {svc_errors}')\n",
        "\n",
        "svc_acc = accuracy_score(yTest, svc_yPred)\n",
        "print(f\"Accuracy: {svc_acc}\")\n",
        "\n",
        "svc_prec = precision_score(yTest, svc_yPred)\n",
        "print(f'Precision: {svc_prec}')\n",
        "\n",
        "svc_rec = recall_score(yTest, svc_yPred)\n",
        "print(f'Recall: {svc_rec}')\n",
        "\n",
        "svc_f1 = f1_score(yTest, svc_yPred)\n",
        "print(f'F1-Score: {svc_f1}')\n",
        "\n",
        "svc_mcc = matthews_corrcoef(yTest, svc_yPred)\n",
        "print(f'Matthews Correlation Coefficient: {svc_mcc}')"
      ]
    },
    {
      "cell_type": "markdown",
      "metadata": {
        "id": "CVH8CXYG6TBt"
      },
      "source": [
        "## **H. Neural Network**\n",
        "\n",
        "> A Neural Network is a method in artificial intelligence that teaches computers to process data in a way that is inspired by the human brain. It is a type of machine learning process, called deep learning, that uses interconnected nodes or neurons in a layered structure that resembles the human brain."
      ]
    },
    {
      "cell_type": "code",
      "execution_count": 33,
      "metadata": {
        "id": "lIgQxenp0OPg"
      },
      "outputs": [],
      "source": [
        "# FEATURE SCALING\n",
        "\n",
        "from sklearn.preprocessing import StandardScaler\n",
        "\n",
        "sc = StandardScaler()\n",
        "xTrain_NN = sc.fit_transform(xTrain)\n",
        "xTest_NN = sc.transform(xTest)"
      ]
    },
    {
      "cell_type": "code",
      "execution_count": 34,
      "metadata": {
        "id": "LA8_8anv6jBJ",
        "colab": {
          "base_uri": "https://localhost:8080/",
          "height": 344
        },
        "outputId": "6a895cb3-5903-4acd-9194-7ac17e869733"
      },
      "outputs": [
        {
          "output_type": "stream",
          "name": "stdout",
          "text": [
            "Input shape: [29]\n"
          ]
        },
        {
          "output_type": "stream",
          "name": "stderr",
          "text": [
            "/usr/local/lib/python3.10/dist-packages/keras/src/layers/core/dense.py:87: UserWarning: Do not pass an `input_shape`/`input_dim` argument to a layer. When using Sequential models, prefer using an `Input(shape)` object as the first layer in the model instead.\n",
            "  super().__init__(activity_regularizer=activity_regularizer, **kwargs)\n"
          ]
        },
        {
          "output_type": "display_data",
          "data": {
            "text/plain": [
              "\u001b[1mModel: \"sequential\"\u001b[0m\n"
            ],
            "text/html": [
              "<pre style=\"white-space:pre;overflow-x:auto;line-height:normal;font-family:Menlo,'DejaVu Sans Mono',consolas,'Courier New',monospace\"><span style=\"font-weight: bold\">Model: \"sequential\"</span>\n",
              "</pre>\n"
            ]
          },
          "metadata": {}
        },
        {
          "output_type": "display_data",
          "data": {
            "text/plain": [
              "┏━━━━━━━━━━━━━━━━━━━━━━━━━━━━━━━━━━━━━━┳━━━━━━━━━━━━━━━━━━━━━━━━━━━━━┳━━━━━━━━━━━━━━━━━┓\n",
              "┃\u001b[1m \u001b[0m\u001b[1mLayer (type)                        \u001b[0m\u001b[1m \u001b[0m┃\u001b[1m \u001b[0m\u001b[1mOutput Shape               \u001b[0m\u001b[1m \u001b[0m┃\u001b[1m \u001b[0m\u001b[1m        Param #\u001b[0m\u001b[1m \u001b[0m┃\n",
              "┡━━━━━━━━━━━━━━━━━━━━━━━━━━━━━━━━━━━━━━╇━━━━━━━━━━━━━━━━━━━━━━━━━━━━━╇━━━━━━━━━━━━━━━━━┩\n",
              "│ dense (\u001b[38;5;33mDense\u001b[0m)                        │ (\u001b[38;5;45mNone\u001b[0m, \u001b[38;5;34m6\u001b[0m)                   │             \u001b[38;5;34m180\u001b[0m │\n",
              "├──────────────────────────────────────┼─────────────────────────────┼─────────────────┤\n",
              "│ dense_1 (\u001b[38;5;33mDense\u001b[0m)                      │ (\u001b[38;5;45mNone\u001b[0m, \u001b[38;5;34m20\u001b[0m)                  │             \u001b[38;5;34m140\u001b[0m │\n",
              "├──────────────────────────────────────┼─────────────────────────────┼─────────────────┤\n",
              "│ dense_2 (\u001b[38;5;33mDense\u001b[0m)                      │ (\u001b[38;5;45mNone\u001b[0m, \u001b[38;5;34m10\u001b[0m)                  │             \u001b[38;5;34m210\u001b[0m │\n",
              "├──────────────────────────────────────┼─────────────────────────────┼─────────────────┤\n",
              "│ dense_3 (\u001b[38;5;33mDense\u001b[0m)                      │ (\u001b[38;5;45mNone\u001b[0m, \u001b[38;5;34m1\u001b[0m)                   │              \u001b[38;5;34m11\u001b[0m │\n",
              "└──────────────────────────────────────┴─────────────────────────────┴─────────────────┘\n"
            ],
            "text/html": [
              "<pre style=\"white-space:pre;overflow-x:auto;line-height:normal;font-family:Menlo,'DejaVu Sans Mono',consolas,'Courier New',monospace\">┏━━━━━━━━━━━━━━━━━━━━━━━━━━━━━━━━━━━━━━┳━━━━━━━━━━━━━━━━━━━━━━━━━━━━━┳━━━━━━━━━━━━━━━━━┓\n",
              "┃<span style=\"font-weight: bold\"> Layer (type)                         </span>┃<span style=\"font-weight: bold\"> Output Shape                </span>┃<span style=\"font-weight: bold\">         Param # </span>┃\n",
              "┡━━━━━━━━━━━━━━━━━━━━━━━━━━━━━━━━━━━━━━╇━━━━━━━━━━━━━━━━━━━━━━━━━━━━━╇━━━━━━━━━━━━━━━━━┩\n",
              "│ dense (<span style=\"color: #0087ff; text-decoration-color: #0087ff\">Dense</span>)                        │ (<span style=\"color: #00d7ff; text-decoration-color: #00d7ff\">None</span>, <span style=\"color: #00af00; text-decoration-color: #00af00\">6</span>)                   │             <span style=\"color: #00af00; text-decoration-color: #00af00\">180</span> │\n",
              "├──────────────────────────────────────┼─────────────────────────────┼─────────────────┤\n",
              "│ dense_1 (<span style=\"color: #0087ff; text-decoration-color: #0087ff\">Dense</span>)                      │ (<span style=\"color: #00d7ff; text-decoration-color: #00d7ff\">None</span>, <span style=\"color: #00af00; text-decoration-color: #00af00\">20</span>)                  │             <span style=\"color: #00af00; text-decoration-color: #00af00\">140</span> │\n",
              "├──────────────────────────────────────┼─────────────────────────────┼─────────────────┤\n",
              "│ dense_2 (<span style=\"color: #0087ff; text-decoration-color: #0087ff\">Dense</span>)                      │ (<span style=\"color: #00d7ff; text-decoration-color: #00d7ff\">None</span>, <span style=\"color: #00af00; text-decoration-color: #00af00\">10</span>)                  │             <span style=\"color: #00af00; text-decoration-color: #00af00\">210</span> │\n",
              "├──────────────────────────────────────┼─────────────────────────────┼─────────────────┤\n",
              "│ dense_3 (<span style=\"color: #0087ff; text-decoration-color: #0087ff\">Dense</span>)                      │ (<span style=\"color: #00d7ff; text-decoration-color: #00d7ff\">None</span>, <span style=\"color: #00af00; text-decoration-color: #00af00\">1</span>)                   │              <span style=\"color: #00af00; text-decoration-color: #00af00\">11</span> │\n",
              "└──────────────────────────────────────┴─────────────────────────────┴─────────────────┘\n",
              "</pre>\n"
            ]
          },
          "metadata": {}
        },
        {
          "output_type": "display_data",
          "data": {
            "text/plain": [
              "\u001b[1m Total params: \u001b[0m\u001b[38;5;34m541\u001b[0m (2.11 KB)\n"
            ],
            "text/html": [
              "<pre style=\"white-space:pre;overflow-x:auto;line-height:normal;font-family:Menlo,'DejaVu Sans Mono',consolas,'Courier New',monospace\"><span style=\"font-weight: bold\"> Total params: </span><span style=\"color: #00af00; text-decoration-color: #00af00\">541</span> (2.11 KB)\n",
              "</pre>\n"
            ]
          },
          "metadata": {}
        },
        {
          "output_type": "display_data",
          "data": {
            "text/plain": [
              "\u001b[1m Trainable params: \u001b[0m\u001b[38;5;34m541\u001b[0m (2.11 KB)\n"
            ],
            "text/html": [
              "<pre style=\"white-space:pre;overflow-x:auto;line-height:normal;font-family:Menlo,'DejaVu Sans Mono',consolas,'Courier New',monospace\"><span style=\"font-weight: bold\"> Trainable params: </span><span style=\"color: #00af00; text-decoration-color: #00af00\">541</span> (2.11 KB)\n",
              "</pre>\n"
            ]
          },
          "metadata": {}
        },
        {
          "output_type": "display_data",
          "data": {
            "text/plain": [
              "\u001b[1m Non-trainable params: \u001b[0m\u001b[38;5;34m0\u001b[0m (0.00 B)\n"
            ],
            "text/html": [
              "<pre style=\"white-space:pre;overflow-x:auto;line-height:normal;font-family:Menlo,'DejaVu Sans Mono',consolas,'Courier New',monospace\"><span style=\"font-weight: bold\"> Non-trainable params: </span><span style=\"color: #00af00; text-decoration-color: #00af00\">0</span> (0.00 B)\n",
              "</pre>\n"
            ]
          },
          "metadata": {}
        }
      ],
      "source": [
        "# CREATING THE NEURAL NETWORK\n",
        "\n",
        "import tensorflow as tf\n",
        "from tensorflow import keras\n",
        "\n",
        "input_shape = [xTrain_NN.shape[1]]\n",
        "print(f'Input shape: {input_shape}')\n",
        "\n",
        "nn = tf.keras.Sequential([\n",
        "    tf.keras.layers.Dense(units = 6, activation = 'relu', input_shape = input_shape, kernel_initializer = 'uniform'),\n",
        "    tf.keras.layers.Dense(units = 20, activation = 'relu', kernel_initializer = 'uniform'),\n",
        "    tf.keras.layers.Dense(units = 10, activation = 'relu', kernel_initializer = 'uniform'),\n",
        "    tf.keras.layers.Dense(units = 1, activation = 'sigmoid', kernel_initializer = 'uniform')\n",
        "    ])\n",
        "\n",
        "nn.summary()"
      ]
    },
    {
      "cell_type": "code",
      "execution_count": 35,
      "metadata": {
        "id": "id_GiPAI6l3X"
      },
      "outputs": [],
      "source": [
        "# COMPILING THE NETWORK\n",
        "\n",
        "nn.compile(optimizer = 'adam', loss = 'binary_crossentropy', metrics = ['accuracy'])"
      ]
    },
    {
      "cell_type": "code",
      "execution_count": 41,
      "metadata": {
        "id": "l1dLcAEk6m4F",
        "colab": {
          "base_uri": "https://localhost:8080/"
        },
        "outputId": "b8467a34-8bf4-45cb-8e32-766d871436cb"
      },
      "outputs": [
        {
          "output_type": "stream",
          "name": "stdout",
          "text": [
            "Epoch 1/10\n",
            "\u001b[1m2279/2279\u001b[0m \u001b[32m━━━━━━━━━━━━━━━━━━━━\u001b[0m\u001b[37m\u001b[0m \u001b[1m4s\u001b[0m 2ms/step - accuracy: 0.9994 - loss: 0.0028\n",
            "Epoch 2/10\n",
            "\u001b[1m2279/2279\u001b[0m \u001b[32m━━━━━━━━━━━━━━━━━━━━\u001b[0m\u001b[37m\u001b[0m \u001b[1m5s\u001b[0m 2ms/step - accuracy: 0.9994 - loss: 0.0027\n",
            "Epoch 3/10\n",
            "\u001b[1m2279/2279\u001b[0m \u001b[32m━━━━━━━━━━━━━━━━━━━━\u001b[0m\u001b[37m\u001b[0m \u001b[1m7s\u001b[0m 2ms/step - accuracy: 0.9993 - loss: 0.0030\n",
            "Epoch 4/10\n",
            "\u001b[1m2279/2279\u001b[0m \u001b[32m━━━━━━━━━━━━━━━━━━━━\u001b[0m\u001b[37m\u001b[0m \u001b[1m4s\u001b[0m 2ms/step - accuracy: 0.9993 - loss: 0.0032\n",
            "Epoch 5/10\n",
            "\u001b[1m2279/2279\u001b[0m \u001b[32m━━━━━━━━━━━━━━━━━━━━\u001b[0m\u001b[37m\u001b[0m \u001b[1m4s\u001b[0m 2ms/step - accuracy: 0.9995 - loss: 0.0023\n",
            "Epoch 6/10\n",
            "\u001b[1m2279/2279\u001b[0m \u001b[32m━━━━━━━━━━━━━━━━━━━━\u001b[0m\u001b[37m\u001b[0m \u001b[1m7s\u001b[0m 2ms/step - accuracy: 0.9995 - loss: 0.0023\n",
            "Epoch 7/10\n",
            "\u001b[1m2279/2279\u001b[0m \u001b[32m━━━━━━━━━━━━━━━━━━━━\u001b[0m\u001b[37m\u001b[0m \u001b[1m4s\u001b[0m 2ms/step - accuracy: 0.9995 - loss: 0.0024\n",
            "Epoch 8/10\n",
            "\u001b[1m2279/2279\u001b[0m \u001b[32m━━━━━━━━━━━━━━━━━━━━\u001b[0m\u001b[37m\u001b[0m \u001b[1m5s\u001b[0m 2ms/step - accuracy: 0.9995 - loss: 0.0024\n",
            "Epoch 9/10\n",
            "\u001b[1m2279/2279\u001b[0m \u001b[32m━━━━━━━━━━━━━━━━━━━━\u001b[0m\u001b[37m\u001b[0m \u001b[1m6s\u001b[0m 2ms/step - accuracy: 0.9995 - loss: 0.0022\n",
            "Epoch 10/10\n",
            "\u001b[1m2279/2279\u001b[0m \u001b[32m━━━━━━━━━━━━━━━━━━━━\u001b[0m\u001b[37m\u001b[0m \u001b[1m15s\u001b[0m 5ms/step - accuracy: 0.9995 - loss: 0.0024\n"
          ]
        },
        {
          "output_type": "execute_result",
          "data": {
            "text/plain": [
              "<keras.src.callbacks.history.History at 0x7d807e49d510>"
            ]
          },
          "metadata": {},
          "execution_count": 41
        }
      ],
      "source": [
        "# FITTING THE NETWORK TO THE TRAINING SET\n",
        "\n",
        "nn.fit(xTrain_NN, yTrain, batch_size = 100, epochs = 10)"
      ]
    },
    {
      "cell_type": "code",
      "source": [
        "# PREDICTION\n",
        "\n",
        "nn_yPred = nn.predict(xTest)\n",
        "nn_yPred = (nn_yPred > 0.5).astype(int).flatten()"
      ],
      "metadata": {
        "colab": {
          "base_uri": "https://localhost:8080/"
        },
        "id": "mKoMekspevzo",
        "outputId": "93dd4931-ce0f-40cc-831b-12a807c092a3"
      },
      "execution_count": 42,
      "outputs": [
        {
          "output_type": "stream",
          "name": "stdout",
          "text": [
            "\u001b[1m1781/1781\u001b[0m \u001b[32m━━━━━━━━━━━━━━━━━━━━\u001b[0m\u001b[37m\u001b[0m \u001b[1m7s\u001b[0m 4ms/step\n"
          ]
        }
      ]
    },
    {
      "cell_type": "code",
      "execution_count": 43,
      "metadata": {
        "id": "d-WmzYV37O6L",
        "colab": {
          "base_uri": "https://localhost:8080/"
        },
        "outputId": "5a965761-cfda-41da-b371-8e0b7a797833"
      },
      "outputs": [
        {
          "output_type": "stream",
          "name": "stdout",
          "text": [
            "NEURAL NETWORK \n",
            "\n",
            "Total Errors: 166\n",
            "Accuracy: 0.9970857764825674\n",
            "Precision: 0.2702702702702703\n",
            "Recall: 0.40816326530612246\n",
            "F1-Score: 0.3252032520325203\n",
            "Matthews Correlation Coefficient: 0.33073605098866543\n"
          ]
        }
      ],
      "source": [
        "# EVALUATING THE MODEL\n",
        "\n",
        "print('NEURAL NETWORK \\n')\n",
        "\n",
        "nn_errors = (nn_yPred != yTest).sum()\n",
        "print(f'Total Errors: {nn_errors}')\n",
        "\n",
        "nn_acc = accuracy_score(yTest, nn_yPred)\n",
        "print(f\"Accuracy: {nn_acc}\")\n",
        "\n",
        "nn_prec = precision_score(yTest, nn_yPred)\n",
        "print(f'Precision: {nn_prec}')\n",
        "\n",
        "nn_rec = recall_score(yTest, nn_yPred)\n",
        "print(f'Recall: {nn_rec}')\n",
        "\n",
        "nn_f1 = f1_score(yTest, nn_yPred)\n",
        "print(f'F1-Score: {nn_f1}')\n",
        "\n",
        "nn_mcc = matthews_corrcoef(yTest, nn_yPred)\n",
        "print(f'Matthews Correlation Coefficient: {nn_mcc}')"
      ]
    },
    {
      "cell_type": "markdown",
      "metadata": {
        "id": "ksp4QE1VqrS5"
      },
      "source": [
        "# **V. Evaluating the Models**"
      ]
    },
    {
      "cell_type": "markdown",
      "metadata": {
        "id": "QIrGTa0lp_Rk"
      },
      "source": [
        "**Accuracy** - shows how often a classification ML model is correct overall.\n",
        "\n",
        "**Precision** - shows how often an ML model is correct when predicting the target class.\n",
        "\n",
        "**Recall** - shows whether an ML model can find all objects of the target class.\n",
        "\n",
        "**F1-Score** - provides a balance between precision and recall, making it a more comprehensive metric for evaluating classification models. The closer to 1, the better the balance.\n",
        "\n",
        "**Matthew's Correlation Coefficient** - a statistical tool used for model evaluation. Its job is to gauge or measure the difference between the predicted values and actual values"
      ]
    },
    {
      "cell_type": "code",
      "execution_count": 48,
      "metadata": {
        "id": "YIdDPKMCq6Z9"
      },
      "outputs": [],
      "source": [
        "# CREATING THE ARRAYS\n",
        "\n",
        "models = ['Random Forest Classifier', 'Bernoulli Naive Bayes Classifier', 'Decision Tree Classifier', 'Gradient Boosted Decision Tree Classifier', 'Adaptive Boosted Decision Stump Classifier', 'Logistic Regression', 'Support Vector Machine', 'Neural Network']\n",
        "errors = [rfc_errors, bnb_errors, dtc_errors, gbc_errors, abc_errors, lr_errors, svc_errors, nn_errors]\n",
        "acc = [rfc_acc, bnb_acc, dtc_acc, gbc_acc, abc_acc, lr_acc, svc_acc, nn_acc]\n",
        "prec = [rfc_prec, bnb_prec, dtc_prec, gbc_prec, abc_prec, lr_prec, svc_prec, nn_prec]\n",
        "rec = [rfc_rec, bnb_rec, dtc_rec, gbc_rec, abc_rec, lr_rec, svc_rec, nn_rec]\n",
        "f1 = [rfc_f1, bnb_f1, dtc_f1, gbc_f1, abc_f1, lr_f1, svc_f1, nn_f1]\n",
        "mcc = [rfc_mcc, bnb_mcc, dtc_mcc, gbc_mcc, abc_mcc, lr_mcc, svc_mcc, nn_mcc]\n",
        "\n",
        "# CONVERT TO DICTIONARY\n",
        "\n",
        "eval_dict = {'Model': models, 'Total Errors': errors, 'Accuracy': acc, 'Precision': prec, 'Recall': rec, 'F1-Score': f1, 'Matthews Correlation Coefficient': mcc}"
      ]
    },
    {
      "cell_type": "code",
      "execution_count": 49,
      "metadata": {
        "colab": {
          "base_uri": "https://localhost:8080/",
          "height": 300
        },
        "id": "DJ5hb_LJrkBj",
        "outputId": "8ffcaab4-1bab-4c6d-f3e7-2a2db77b8e2c"
      },
      "outputs": [
        {
          "output_type": "execute_result",
          "data": {
            "text/plain": [
              "                                        Model  Total Errors  Accuracy  \\\n",
              "0                    Random Forest Classifier            24  0.999579   \n",
              "1                    Decision Tree Classifier            47  0.999175   \n",
              "2            Bernoulli Naive Bayes Classifier            51  0.999105   \n",
              "3                         Logistic Regression            57  0.998999   \n",
              "4   Gradient Boosted Decision Tree Classifier            60  0.998947   \n",
              "5  Adaptive Boosted Decision Stump Classifier            60  0.998947   \n",
              "6                      Support Vector Machine            72  0.998736   \n",
              "7                              Neural Network           166  0.997086   \n",
              "\n",
              "   Precision    Recall  F1-Score  Matthews Correlation Coefficient  \n",
              "0   0.962500  0.785714  0.865169                          0.869430  \n",
              "1   0.742857  0.795918  0.768473                          0.768519  \n",
              "2   0.805195  0.632653  0.708571                          0.713300  \n",
              "3   0.805970  0.551020  0.654545                          0.665955  \n",
              "4   0.737500  0.602041  0.662921                          0.665823  \n",
              "5   0.737500  0.602041  0.662921                          0.665823  \n",
              "6   0.882353  0.306122  0.454545                          0.519308  \n",
              "7   0.270270  0.408163  0.325203                          0.330736  "
            ],
            "text/html": [
              "\n",
              "  <div id=\"df-4e8fae23-d76c-498a-b27e-88af85b55c90\" class=\"colab-df-container\">\n",
              "    <div>\n",
              "<style scoped>\n",
              "    .dataframe tbody tr th:only-of-type {\n",
              "        vertical-align: middle;\n",
              "    }\n",
              "\n",
              "    .dataframe tbody tr th {\n",
              "        vertical-align: top;\n",
              "    }\n",
              "\n",
              "    .dataframe thead th {\n",
              "        text-align: right;\n",
              "    }\n",
              "</style>\n",
              "<table border=\"1\" class=\"dataframe\">\n",
              "  <thead>\n",
              "    <tr style=\"text-align: right;\">\n",
              "      <th></th>\n",
              "      <th>Model</th>\n",
              "      <th>Total Errors</th>\n",
              "      <th>Accuracy</th>\n",
              "      <th>Precision</th>\n",
              "      <th>Recall</th>\n",
              "      <th>F1-Score</th>\n",
              "      <th>Matthews Correlation Coefficient</th>\n",
              "    </tr>\n",
              "  </thead>\n",
              "  <tbody>\n",
              "    <tr>\n",
              "      <th>0</th>\n",
              "      <td>Random Forest Classifier</td>\n",
              "      <td>24</td>\n",
              "      <td>0.999579</td>\n",
              "      <td>0.962500</td>\n",
              "      <td>0.785714</td>\n",
              "      <td>0.865169</td>\n",
              "      <td>0.869430</td>\n",
              "    </tr>\n",
              "    <tr>\n",
              "      <th>1</th>\n",
              "      <td>Decision Tree Classifier</td>\n",
              "      <td>47</td>\n",
              "      <td>0.999175</td>\n",
              "      <td>0.742857</td>\n",
              "      <td>0.795918</td>\n",
              "      <td>0.768473</td>\n",
              "      <td>0.768519</td>\n",
              "    </tr>\n",
              "    <tr>\n",
              "      <th>2</th>\n",
              "      <td>Bernoulli Naive Bayes Classifier</td>\n",
              "      <td>51</td>\n",
              "      <td>0.999105</td>\n",
              "      <td>0.805195</td>\n",
              "      <td>0.632653</td>\n",
              "      <td>0.708571</td>\n",
              "      <td>0.713300</td>\n",
              "    </tr>\n",
              "    <tr>\n",
              "      <th>3</th>\n",
              "      <td>Logistic Regression</td>\n",
              "      <td>57</td>\n",
              "      <td>0.998999</td>\n",
              "      <td>0.805970</td>\n",
              "      <td>0.551020</td>\n",
              "      <td>0.654545</td>\n",
              "      <td>0.665955</td>\n",
              "    </tr>\n",
              "    <tr>\n",
              "      <th>4</th>\n",
              "      <td>Gradient Boosted Decision Tree Classifier</td>\n",
              "      <td>60</td>\n",
              "      <td>0.998947</td>\n",
              "      <td>0.737500</td>\n",
              "      <td>0.602041</td>\n",
              "      <td>0.662921</td>\n",
              "      <td>0.665823</td>\n",
              "    </tr>\n",
              "    <tr>\n",
              "      <th>5</th>\n",
              "      <td>Adaptive Boosted Decision Stump Classifier</td>\n",
              "      <td>60</td>\n",
              "      <td>0.998947</td>\n",
              "      <td>0.737500</td>\n",
              "      <td>0.602041</td>\n",
              "      <td>0.662921</td>\n",
              "      <td>0.665823</td>\n",
              "    </tr>\n",
              "    <tr>\n",
              "      <th>6</th>\n",
              "      <td>Support Vector Machine</td>\n",
              "      <td>72</td>\n",
              "      <td>0.998736</td>\n",
              "      <td>0.882353</td>\n",
              "      <td>0.306122</td>\n",
              "      <td>0.454545</td>\n",
              "      <td>0.519308</td>\n",
              "    </tr>\n",
              "    <tr>\n",
              "      <th>7</th>\n",
              "      <td>Neural Network</td>\n",
              "      <td>166</td>\n",
              "      <td>0.997086</td>\n",
              "      <td>0.270270</td>\n",
              "      <td>0.408163</td>\n",
              "      <td>0.325203</td>\n",
              "      <td>0.330736</td>\n",
              "    </tr>\n",
              "  </tbody>\n",
              "</table>\n",
              "</div>\n",
              "    <div class=\"colab-df-buttons\">\n",
              "\n",
              "  <div class=\"colab-df-container\">\n",
              "    <button class=\"colab-df-convert\" onclick=\"convertToInteractive('df-4e8fae23-d76c-498a-b27e-88af85b55c90')\"\n",
              "            title=\"Convert this dataframe to an interactive table.\"\n",
              "            style=\"display:none;\">\n",
              "\n",
              "  <svg xmlns=\"http://www.w3.org/2000/svg\" height=\"24px\" viewBox=\"0 -960 960 960\">\n",
              "    <path d=\"M120-120v-720h720v720H120Zm60-500h600v-160H180v160Zm220 220h160v-160H400v160Zm0 220h160v-160H400v160ZM180-400h160v-160H180v160Zm440 0h160v-160H620v160ZM180-180h160v-160H180v160Zm440 0h160v-160H620v160Z\"/>\n",
              "  </svg>\n",
              "    </button>\n",
              "\n",
              "  <style>\n",
              "    .colab-df-container {\n",
              "      display:flex;\n",
              "      gap: 12px;\n",
              "    }\n",
              "\n",
              "    .colab-df-convert {\n",
              "      background-color: #E8F0FE;\n",
              "      border: none;\n",
              "      border-radius: 50%;\n",
              "      cursor: pointer;\n",
              "      display: none;\n",
              "      fill: #1967D2;\n",
              "      height: 32px;\n",
              "      padding: 0 0 0 0;\n",
              "      width: 32px;\n",
              "    }\n",
              "\n",
              "    .colab-df-convert:hover {\n",
              "      background-color: #E2EBFA;\n",
              "      box-shadow: 0px 1px 2px rgba(60, 64, 67, 0.3), 0px 1px 3px 1px rgba(60, 64, 67, 0.15);\n",
              "      fill: #174EA6;\n",
              "    }\n",
              "\n",
              "    .colab-df-buttons div {\n",
              "      margin-bottom: 4px;\n",
              "    }\n",
              "\n",
              "    [theme=dark] .colab-df-convert {\n",
              "      background-color: #3B4455;\n",
              "      fill: #D2E3FC;\n",
              "    }\n",
              "\n",
              "    [theme=dark] .colab-df-convert:hover {\n",
              "      background-color: #434B5C;\n",
              "      box-shadow: 0px 1px 3px 1px rgba(0, 0, 0, 0.15);\n",
              "      filter: drop-shadow(0px 1px 2px rgba(0, 0, 0, 0.3));\n",
              "      fill: #FFFFFF;\n",
              "    }\n",
              "  </style>\n",
              "\n",
              "    <script>\n",
              "      const buttonEl =\n",
              "        document.querySelector('#df-4e8fae23-d76c-498a-b27e-88af85b55c90 button.colab-df-convert');\n",
              "      buttonEl.style.display =\n",
              "        google.colab.kernel.accessAllowed ? 'block' : 'none';\n",
              "\n",
              "      async function convertToInteractive(key) {\n",
              "        const element = document.querySelector('#df-4e8fae23-d76c-498a-b27e-88af85b55c90');\n",
              "        const dataTable =\n",
              "          await google.colab.kernel.invokeFunction('convertToInteractive',\n",
              "                                                    [key], {});\n",
              "        if (!dataTable) return;\n",
              "\n",
              "        const docLinkHtml = 'Like what you see? Visit the ' +\n",
              "          '<a target=\"_blank\" href=https://colab.research.google.com/notebooks/data_table.ipynb>data table notebook</a>'\n",
              "          + ' to learn more about interactive tables.';\n",
              "        element.innerHTML = '';\n",
              "        dataTable['output_type'] = 'display_data';\n",
              "        await google.colab.output.renderOutput(dataTable, element);\n",
              "        const docLink = document.createElement('div');\n",
              "        docLink.innerHTML = docLinkHtml;\n",
              "        element.appendChild(docLink);\n",
              "      }\n",
              "    </script>\n",
              "  </div>\n",
              "\n",
              "\n",
              "<div id=\"df-bbd4ae0c-4b14-44fe-92d8-a3f944909fe8\">\n",
              "  <button class=\"colab-df-quickchart\" onclick=\"quickchart('df-bbd4ae0c-4b14-44fe-92d8-a3f944909fe8')\"\n",
              "            title=\"Suggest charts\"\n",
              "            style=\"display:none;\">\n",
              "\n",
              "<svg xmlns=\"http://www.w3.org/2000/svg\" height=\"24px\"viewBox=\"0 0 24 24\"\n",
              "     width=\"24px\">\n",
              "    <g>\n",
              "        <path d=\"M19 3H5c-1.1 0-2 .9-2 2v14c0 1.1.9 2 2 2h14c1.1 0 2-.9 2-2V5c0-1.1-.9-2-2-2zM9 17H7v-7h2v7zm4 0h-2V7h2v10zm4 0h-2v-4h2v4z\"/>\n",
              "    </g>\n",
              "</svg>\n",
              "  </button>\n",
              "\n",
              "<style>\n",
              "  .colab-df-quickchart {\n",
              "      --bg-color: #E8F0FE;\n",
              "      --fill-color: #1967D2;\n",
              "      --hover-bg-color: #E2EBFA;\n",
              "      --hover-fill-color: #174EA6;\n",
              "      --disabled-fill-color: #AAA;\n",
              "      --disabled-bg-color: #DDD;\n",
              "  }\n",
              "\n",
              "  [theme=dark] .colab-df-quickchart {\n",
              "      --bg-color: #3B4455;\n",
              "      --fill-color: #D2E3FC;\n",
              "      --hover-bg-color: #434B5C;\n",
              "      --hover-fill-color: #FFFFFF;\n",
              "      --disabled-bg-color: #3B4455;\n",
              "      --disabled-fill-color: #666;\n",
              "  }\n",
              "\n",
              "  .colab-df-quickchart {\n",
              "    background-color: var(--bg-color);\n",
              "    border: none;\n",
              "    border-radius: 50%;\n",
              "    cursor: pointer;\n",
              "    display: none;\n",
              "    fill: var(--fill-color);\n",
              "    height: 32px;\n",
              "    padding: 0;\n",
              "    width: 32px;\n",
              "  }\n",
              "\n",
              "  .colab-df-quickchart:hover {\n",
              "    background-color: var(--hover-bg-color);\n",
              "    box-shadow: 0 1px 2px rgba(60, 64, 67, 0.3), 0 1px 3px 1px rgba(60, 64, 67, 0.15);\n",
              "    fill: var(--button-hover-fill-color);\n",
              "  }\n",
              "\n",
              "  .colab-df-quickchart-complete:disabled,\n",
              "  .colab-df-quickchart-complete:disabled:hover {\n",
              "    background-color: var(--disabled-bg-color);\n",
              "    fill: var(--disabled-fill-color);\n",
              "    box-shadow: none;\n",
              "  }\n",
              "\n",
              "  .colab-df-spinner {\n",
              "    border: 2px solid var(--fill-color);\n",
              "    border-color: transparent;\n",
              "    border-bottom-color: var(--fill-color);\n",
              "    animation:\n",
              "      spin 1s steps(1) infinite;\n",
              "  }\n",
              "\n",
              "  @keyframes spin {\n",
              "    0% {\n",
              "      border-color: transparent;\n",
              "      border-bottom-color: var(--fill-color);\n",
              "      border-left-color: var(--fill-color);\n",
              "    }\n",
              "    20% {\n",
              "      border-color: transparent;\n",
              "      border-left-color: var(--fill-color);\n",
              "      border-top-color: var(--fill-color);\n",
              "    }\n",
              "    30% {\n",
              "      border-color: transparent;\n",
              "      border-left-color: var(--fill-color);\n",
              "      border-top-color: var(--fill-color);\n",
              "      border-right-color: var(--fill-color);\n",
              "    }\n",
              "    40% {\n",
              "      border-color: transparent;\n",
              "      border-right-color: var(--fill-color);\n",
              "      border-top-color: var(--fill-color);\n",
              "    }\n",
              "    60% {\n",
              "      border-color: transparent;\n",
              "      border-right-color: var(--fill-color);\n",
              "    }\n",
              "    80% {\n",
              "      border-color: transparent;\n",
              "      border-right-color: var(--fill-color);\n",
              "      border-bottom-color: var(--fill-color);\n",
              "    }\n",
              "    90% {\n",
              "      border-color: transparent;\n",
              "      border-bottom-color: var(--fill-color);\n",
              "    }\n",
              "  }\n",
              "</style>\n",
              "\n",
              "  <script>\n",
              "    async function quickchart(key) {\n",
              "      const quickchartButtonEl =\n",
              "        document.querySelector('#' + key + ' button');\n",
              "      quickchartButtonEl.disabled = true;  // To prevent multiple clicks.\n",
              "      quickchartButtonEl.classList.add('colab-df-spinner');\n",
              "      try {\n",
              "        const charts = await google.colab.kernel.invokeFunction(\n",
              "            'suggestCharts', [key], {});\n",
              "      } catch (error) {\n",
              "        console.error('Error during call to suggestCharts:', error);\n",
              "      }\n",
              "      quickchartButtonEl.classList.remove('colab-df-spinner');\n",
              "      quickchartButtonEl.classList.add('colab-df-quickchart-complete');\n",
              "    }\n",
              "    (() => {\n",
              "      let quickchartButtonEl =\n",
              "        document.querySelector('#df-bbd4ae0c-4b14-44fe-92d8-a3f944909fe8 button');\n",
              "      quickchartButtonEl.style.display =\n",
              "        google.colab.kernel.accessAllowed ? 'block' : 'none';\n",
              "    })();\n",
              "  </script>\n",
              "</div>\n",
              "\n",
              "  <div id=\"id_0e21ffaa-7713-47f4-a8f2-39b7f4ea8dd8\">\n",
              "    <style>\n",
              "      .colab-df-generate {\n",
              "        background-color: #E8F0FE;\n",
              "        border: none;\n",
              "        border-radius: 50%;\n",
              "        cursor: pointer;\n",
              "        display: none;\n",
              "        fill: #1967D2;\n",
              "        height: 32px;\n",
              "        padding: 0 0 0 0;\n",
              "        width: 32px;\n",
              "      }\n",
              "\n",
              "      .colab-df-generate:hover {\n",
              "        background-color: #E2EBFA;\n",
              "        box-shadow: 0px 1px 2px rgba(60, 64, 67, 0.3), 0px 1px 3px 1px rgba(60, 64, 67, 0.15);\n",
              "        fill: #174EA6;\n",
              "      }\n",
              "\n",
              "      [theme=dark] .colab-df-generate {\n",
              "        background-color: #3B4455;\n",
              "        fill: #D2E3FC;\n",
              "      }\n",
              "\n",
              "      [theme=dark] .colab-df-generate:hover {\n",
              "        background-color: #434B5C;\n",
              "        box-shadow: 0px 1px 3px 1px rgba(0, 0, 0, 0.15);\n",
              "        filter: drop-shadow(0px 1px 2px rgba(0, 0, 0, 0.3));\n",
              "        fill: #FFFFFF;\n",
              "      }\n",
              "    </style>\n",
              "    <button class=\"colab-df-generate\" onclick=\"generateWithVariable('df')\"\n",
              "            title=\"Generate code using this dataframe.\"\n",
              "            style=\"display:none;\">\n",
              "\n",
              "  <svg xmlns=\"http://www.w3.org/2000/svg\" height=\"24px\"viewBox=\"0 0 24 24\"\n",
              "       width=\"24px\">\n",
              "    <path d=\"M7,19H8.4L18.45,9,17,7.55,7,17.6ZM5,21V16.75L18.45,3.32a2,2,0,0,1,2.83,0l1.4,1.43a1.91,1.91,0,0,1,.58,1.4,1.91,1.91,0,0,1-.58,1.4L9.25,21ZM18.45,9,17,7.55Zm-12,3A5.31,5.31,0,0,0,4.9,8.1,5.31,5.31,0,0,0,1,6.5,5.31,5.31,0,0,0,4.9,4.9,5.31,5.31,0,0,0,6.5,1,5.31,5.31,0,0,0,8.1,4.9,5.31,5.31,0,0,0,12,6.5,5.46,5.46,0,0,0,6.5,12Z\"/>\n",
              "  </svg>\n",
              "    </button>\n",
              "    <script>\n",
              "      (() => {\n",
              "      const buttonEl =\n",
              "        document.querySelector('#id_0e21ffaa-7713-47f4-a8f2-39b7f4ea8dd8 button.colab-df-generate');\n",
              "      buttonEl.style.display =\n",
              "        google.colab.kernel.accessAllowed ? 'block' : 'none';\n",
              "\n",
              "      buttonEl.onclick = () => {\n",
              "        google.colab.notebook.generateWithVariable('df');\n",
              "      }\n",
              "      })();\n",
              "    </script>\n",
              "  </div>\n",
              "\n",
              "    </div>\n",
              "  </div>\n"
            ],
            "application/vnd.google.colaboratory.intrinsic+json": {
              "type": "dataframe",
              "variable_name": "df",
              "summary": "{\n  \"name\": \"df\",\n  \"rows\": 8,\n  \"fields\": [\n    {\n      \"column\": \"Model\",\n      \"properties\": {\n        \"dtype\": \"string\",\n        \"num_unique_values\": 8,\n        \"samples\": [\n          \"Decision Tree Classifier\",\n          \"Adaptive Boosted Decision Stump Classifier\",\n          \"Random Forest Classifier\"\n        ],\n        \"semantic_type\": \"\",\n        \"description\": \"\"\n      }\n    },\n    {\n      \"column\": \"Total Errors\",\n      \"properties\": {\n        \"dtype\": \"number\",\n        \"std\": 42,\n        \"min\": 24,\n        \"max\": 166,\n        \"num_unique_values\": 7,\n        \"samples\": [\n          24,\n          47,\n          72\n        ],\n        \"semantic_type\": \"\",\n        \"description\": \"\"\n      }\n    },\n    {\n      \"column\": \"Accuracy\",\n      \"properties\": {\n        \"dtype\": \"number\",\n        \"std\": 0.0007427143049879134,\n        \"min\": 0.9970857764825674,\n        \"max\": 0.9995786664794073,\n        \"num_unique_values\": 7,\n        \"samples\": [\n          0.9995786664794073,\n          0.9991748885221726,\n          0.998735999438222\n        ],\n        \"semantic_type\": \"\",\n        \"description\": \"\"\n      }\n    },\n    {\n      \"column\": \"Precision\",\n      \"properties\": {\n        \"dtype\": \"number\",\n        \"std\": 0.2066628865858486,\n        \"min\": 0.2702702702702703,\n        \"max\": 0.9625,\n        \"num_unique_values\": 7,\n        \"samples\": [\n          0.9625,\n          0.7428571428571429,\n          0.8823529411764706\n        ],\n        \"semantic_type\": \"\",\n        \"description\": \"\"\n      }\n    },\n    {\n      \"column\": \"Recall\",\n      \"properties\": {\n        \"dtype\": \"number\",\n        \"std\": 0.16810762722768863,\n        \"min\": 0.30612244897959184,\n        \"max\": 0.7959183673469388,\n        \"num_unique_values\": 7,\n        \"samples\": [\n          0.7857142857142857,\n          0.7959183673469388,\n          0.30612244897959184\n        ],\n        \"semantic_type\": \"\",\n        \"description\": \"\"\n      }\n    },\n    {\n      \"column\": \"F1-Score\",\n      \"properties\": {\n        \"dtype\": \"number\",\n        \"std\": 0.1718063634815247,\n        \"min\": 0.3252032520325203,\n        \"max\": 0.8651685393258427,\n        \"num_unique_values\": 7,\n        \"samples\": [\n          0.8651685393258427,\n          0.768472906403941,\n          0.45454545454545453\n        ],\n        \"semantic_type\": \"\",\n        \"description\": \"\"\n      }\n    },\n    {\n      \"column\": \"Matthews Correlation Coefficient\",\n      \"properties\": {\n        \"dtype\": \"number\",\n        \"std\": 0.16299357280351853,\n        \"min\": 0.33073605098866543,\n        \"max\": 0.8694303688259544,\n        \"num_unique_values\": 7,\n        \"samples\": [\n          0.8694303688259544,\n          0.768518781857732,\n          0.5193076150489533\n        ],\n        \"semantic_type\": \"\",\n        \"description\": \"\"\n      }\n    }\n  ]\n}"
            }
          },
          "metadata": {},
          "execution_count": 49
        }
      ],
      "source": [
        "# CREATING THE DATAFRAME\n",
        "\n",
        "df = pd.DataFrame(eval_dict)\n",
        "df = df.sort_values(by='Accuracy', ascending=False)\n",
        "df = df.reset_index(drop=True)\n",
        "df"
      ]
    },
    {
      "cell_type": "code",
      "source": [
        "# CHECKING PERMUTATION IMPORTANCE OF THE BEST MODEL - HOW IMPORTANT EACH FEATURES ARE TO THE MODEL (RANDOM FOREST)\n",
        "\n",
        "from sklearn.inspection import permutation_importance\n",
        "\n",
        "rfc_result = permutation_importance(rfc, xTest, yTest, n_repeats=10, random_state=1)"
      ],
      "metadata": {
        "id": "C_VRGJAcfHUA"
      },
      "execution_count": null,
      "outputs": []
    },
    {
      "cell_type": "code",
      "execution_count": null,
      "metadata": {
        "colab": {
          "base_uri": "https://localhost:8080/",
          "height": 109
        },
        "id": "RQsasz55MR0s",
        "outputId": "0c0c53ca-d2f7-4193-8b37-8ce4f9d5fdd5"
      },
      "outputs": [
        {
          "data": {
            "application/vnd.google.colaboratory.intrinsic+json": {
              "type": "dataframe",
              "variable_name": "ranks"
            },
            "text/html": [
              "\n",
              "  <div id=\"df-220d3b7d-fff8-493b-bc7b-1e208afd3442\" class=\"colab-df-container\">\n",
              "    <div>\n",
              "<style scoped>\n",
              "    .dataframe tbody tr th:only-of-type {\n",
              "        vertical-align: middle;\n",
              "    }\n",
              "\n",
              "    .dataframe tbody tr th {\n",
              "        vertical-align: top;\n",
              "    }\n",
              "\n",
              "    .dataframe thead th {\n",
              "        text-align: right;\n",
              "    }\n",
              "</style>\n",
              "<table border=\"1\" class=\"dataframe\">\n",
              "  <thead>\n",
              "    <tr style=\"text-align: right;\">\n",
              "      <th>Features</th>\n",
              "      <th>V14</th>\n",
              "      <th>V10</th>\n",
              "      <th>V17</th>\n",
              "      <th>V26</th>\n",
              "      <th>Amount</th>\n",
              "      <th>V27</th>\n",
              "      <th>V20</th>\n",
              "      <th>V6</th>\n",
              "      <th>V9</th>\n",
              "      <th>V13</th>\n",
              "      <th>V28</th>\n",
              "      <th>V24</th>\n",
              "      <th>V3</th>\n",
              "      <th>V8</th>\n",
              "      <th>V25</th>\n",
              "      <th>V15</th>\n",
              "      <th>V2</th>\n",
              "      <th>V11</th>\n",
              "      <th>V7</th>\n",
              "      <th>V12</th>\n",
              "      <th>V4</th>\n",
              "      <th>V23</th>\n",
              "      <th>V19</th>\n",
              "      <th>V22</th>\n",
              "      <th>V1</th>\n",
              "      <th>V21</th>\n",
              "      <th>V5</th>\n",
              "      <th>V16</th>\n",
              "      <th>V18</th>\n",
              "    </tr>\n",
              "  </thead>\n",
              "  <tbody>\n",
              "    <tr>\n",
              "      <th>Importance</th>\n",
              "      <td>0.000212</td>\n",
              "      <td>0.000156</td>\n",
              "      <td>0.000091</td>\n",
              "      <td>0.000047</td>\n",
              "      <td>0.000032</td>\n",
              "      <td>0.000023</td>\n",
              "      <td>0.000021</td>\n",
              "      <td>0.000018</td>\n",
              "      <td>0.000018</td>\n",
              "      <td>0.000018</td>\n",
              "      <td>0.000016</td>\n",
              "      <td>0.000016</td>\n",
              "      <td>0.000014</td>\n",
              "      <td>0.000014</td>\n",
              "      <td>0.000012</td>\n",
              "      <td>0.000009</td>\n",
              "      <td>0.000009</td>\n",
              "      <td>0.000007</td>\n",
              "      <td>0.000005</td>\n",
              "      <td>0.000002</td>\n",
              "      <td>0.000002</td>\n",
              "      <td>0.0</td>\n",
              "      <td>-0.000005</td>\n",
              "      <td>-0.000007</td>\n",
              "      <td>-0.000007</td>\n",
              "      <td>-0.000009</td>\n",
              "      <td>-0.000012</td>\n",
              "      <td>-0.000014</td>\n",
              "      <td>-0.000033</td>\n",
              "    </tr>\n",
              "  </tbody>\n",
              "</table>\n",
              "</div>\n",
              "    <div class=\"colab-df-buttons\">\n",
              "\n",
              "  <div class=\"colab-df-container\">\n",
              "    <button class=\"colab-df-convert\" onclick=\"convertToInteractive('df-220d3b7d-fff8-493b-bc7b-1e208afd3442')\"\n",
              "            title=\"Convert this dataframe to an interactive table.\"\n",
              "            style=\"display:none;\">\n",
              "\n",
              "  <svg xmlns=\"http://www.w3.org/2000/svg\" height=\"24px\" viewBox=\"0 -960 960 960\">\n",
              "    <path d=\"M120-120v-720h720v720H120Zm60-500h600v-160H180v160Zm220 220h160v-160H400v160Zm0 220h160v-160H400v160ZM180-400h160v-160H180v160Zm440 0h160v-160H620v160ZM180-180h160v-160H180v160Zm440 0h160v-160H620v160Z\"/>\n",
              "  </svg>\n",
              "    </button>\n",
              "\n",
              "  <style>\n",
              "    .colab-df-container {\n",
              "      display:flex;\n",
              "      gap: 12px;\n",
              "    }\n",
              "\n",
              "    .colab-df-convert {\n",
              "      background-color: #E8F0FE;\n",
              "      border: none;\n",
              "      border-radius: 50%;\n",
              "      cursor: pointer;\n",
              "      display: none;\n",
              "      fill: #1967D2;\n",
              "      height: 32px;\n",
              "      padding: 0 0 0 0;\n",
              "      width: 32px;\n",
              "    }\n",
              "\n",
              "    .colab-df-convert:hover {\n",
              "      background-color: #E2EBFA;\n",
              "      box-shadow: 0px 1px 2px rgba(60, 64, 67, 0.3), 0px 1px 3px 1px rgba(60, 64, 67, 0.15);\n",
              "      fill: #174EA6;\n",
              "    }\n",
              "\n",
              "    .colab-df-buttons div {\n",
              "      margin-bottom: 4px;\n",
              "    }\n",
              "\n",
              "    [theme=dark] .colab-df-convert {\n",
              "      background-color: #3B4455;\n",
              "      fill: #D2E3FC;\n",
              "    }\n",
              "\n",
              "    [theme=dark] .colab-df-convert:hover {\n",
              "      background-color: #434B5C;\n",
              "      box-shadow: 0px 1px 3px 1px rgba(0, 0, 0, 0.15);\n",
              "      filter: drop-shadow(0px 1px 2px rgba(0, 0, 0, 0.3));\n",
              "      fill: #FFFFFF;\n",
              "    }\n",
              "  </style>\n",
              "\n",
              "    <script>\n",
              "      const buttonEl =\n",
              "        document.querySelector('#df-220d3b7d-fff8-493b-bc7b-1e208afd3442 button.colab-df-convert');\n",
              "      buttonEl.style.display =\n",
              "        google.colab.kernel.accessAllowed ? 'block' : 'none';\n",
              "\n",
              "      async function convertToInteractive(key) {\n",
              "        const element = document.querySelector('#df-220d3b7d-fff8-493b-bc7b-1e208afd3442');\n",
              "        const dataTable =\n",
              "          await google.colab.kernel.invokeFunction('convertToInteractive',\n",
              "                                                    [key], {});\n",
              "        if (!dataTable) return;\n",
              "\n",
              "        const docLinkHtml = 'Like what you see? Visit the ' +\n",
              "          '<a target=\"_blank\" href=https://colab.research.google.com/notebooks/data_table.ipynb>data table notebook</a>'\n",
              "          + ' to learn more about interactive tables.';\n",
              "        element.innerHTML = '';\n",
              "        dataTable['output_type'] = 'display_data';\n",
              "        await google.colab.output.renderOutput(dataTable, element);\n",
              "        const docLink = document.createElement('div');\n",
              "        docLink.innerHTML = docLinkHtml;\n",
              "        element.appendChild(docLink);\n",
              "      }\n",
              "    </script>\n",
              "  </div>\n",
              "\n",
              "\n",
              "  <div id=\"id_414ea746-dafa-4fec-8092-fcaaa8a121db\">\n",
              "    <style>\n",
              "      .colab-df-generate {\n",
              "        background-color: #E8F0FE;\n",
              "        border: none;\n",
              "        border-radius: 50%;\n",
              "        cursor: pointer;\n",
              "        display: none;\n",
              "        fill: #1967D2;\n",
              "        height: 32px;\n",
              "        padding: 0 0 0 0;\n",
              "        width: 32px;\n",
              "      }\n",
              "\n",
              "      .colab-df-generate:hover {\n",
              "        background-color: #E2EBFA;\n",
              "        box-shadow: 0px 1px 2px rgba(60, 64, 67, 0.3), 0px 1px 3px 1px rgba(60, 64, 67, 0.15);\n",
              "        fill: #174EA6;\n",
              "      }\n",
              "\n",
              "      [theme=dark] .colab-df-generate {\n",
              "        background-color: #3B4455;\n",
              "        fill: #D2E3FC;\n",
              "      }\n",
              "\n",
              "      [theme=dark] .colab-df-generate:hover {\n",
              "        background-color: #434B5C;\n",
              "        box-shadow: 0px 1px 3px 1px rgba(0, 0, 0, 0.15);\n",
              "        filter: drop-shadow(0px 1px 2px rgba(0, 0, 0, 0.3));\n",
              "        fill: #FFFFFF;\n",
              "      }\n",
              "    </style>\n",
              "    <button class=\"colab-df-generate\" onclick=\"generateWithVariable('ranks')\"\n",
              "            title=\"Generate code using this dataframe.\"\n",
              "            style=\"display:none;\">\n",
              "\n",
              "  <svg xmlns=\"http://www.w3.org/2000/svg\" height=\"24px\"viewBox=\"0 0 24 24\"\n",
              "       width=\"24px\">\n",
              "    <path d=\"M7,19H8.4L18.45,9,17,7.55,7,17.6ZM5,21V16.75L18.45,3.32a2,2,0,0,1,2.83,0l1.4,1.43a1.91,1.91,0,0,1,.58,1.4,1.91,1.91,0,0,1-.58,1.4L9.25,21ZM18.45,9,17,7.55Zm-12,3A5.31,5.31,0,0,0,4.9,8.1,5.31,5.31,0,0,0,1,6.5,5.31,5.31,0,0,0,4.9,4.9,5.31,5.31,0,0,0,6.5,1,5.31,5.31,0,0,0,8.1,4.9,5.31,5.31,0,0,0,12,6.5,5.46,5.46,0,0,0,6.5,12Z\"/>\n",
              "  </svg>\n",
              "    </button>\n",
              "    <script>\n",
              "      (() => {\n",
              "      const buttonEl =\n",
              "        document.querySelector('#id_414ea746-dafa-4fec-8092-fcaaa8a121db button.colab-df-generate');\n",
              "      buttonEl.style.display =\n",
              "        google.colab.kernel.accessAllowed ? 'block' : 'none';\n",
              "\n",
              "      buttonEl.onclick = () => {\n",
              "        google.colab.notebook.generateWithVariable('ranks');\n",
              "      }\n",
              "      })();\n",
              "    </script>\n",
              "  </div>\n",
              "\n",
              "    </div>\n",
              "  </div>\n"
            ],
            "text/plain": [
              "Features         V14       V10       V17       V26    Amount       V27  \\\n",
              "Importance  0.000212  0.000156  0.000091  0.000047  0.000032  0.000023   \n",
              "\n",
              "Features         V20        V6        V9       V13       V28       V24  \\\n",
              "Importance  0.000021  0.000018  0.000018  0.000018  0.000016  0.000016   \n",
              "\n",
              "Features          V3        V8       V25       V15        V2       V11  \\\n",
              "Importance  0.000014  0.000014  0.000012  0.000009  0.000009  0.000007   \n",
              "\n",
              "Features          V7       V12        V4  V23       V19       V22        V1  \\\n",
              "Importance  0.000005  0.000002  0.000002  0.0 -0.000005 -0.000007 -0.000007   \n",
              "\n",
              "Features         V21        V5       V16       V18  \n",
              "Importance -0.000009 -0.000012 -0.000014 -0.000033  "
            ]
          },
          "execution_count": 81,
          "metadata": {},
          "output_type": "execute_result"
        }
      ],
      "source": [
        "# SHOW THE MOST IMPORTANT FEATURE USING IMPORTANCES MEAN\n",
        "\n",
        "rfc_imean = rfc_result.importances_mean\n",
        "\n",
        "features = list(X.columns)\n",
        "\n",
        "ranks = pd.DataFrame(rfc_imean, columns=['Importance'], index=features)\n",
        "ranks = ranks.sort_values(by='Importance', ascending=False)\n",
        "ranks.index.name = 'Features'\n",
        "ranks = ranks.transpose()\n",
        "ranks"
      ]
    },
    {
      "cell_type": "markdown",
      "metadata": {
        "id": "JpbNxj2XIKSK"
      },
      "source": [
        "# **VI. Conclusion**\n",
        "\n",
        "All evaluated models exhibited high performance, with accuracy rates surpassing 95%. Notably, the Random Forest Classifier achieved the highest accuracy at **99.96%**, coupled with a precision of 96.25%, recall of 78.57%, F1-score of 86.52%, and MCC of 86.94%. Further analysis identified 'V14' as the most significant feature contributing to the superior performance of the Random Forest model."
      ]
    }
  ],
  "metadata": {
    "colab": {
      "collapsed_sections": [
        "z8MXNe_dUcUC",
        "MhkiaPb_UliH",
        "2N7ir1pZUvgb",
        "JwCNxMteVNOr",
        "ksp4QE1VqrS5"
      ],
      "provenance": []
    },
    "kernelspec": {
      "display_name": "Python 3",
      "name": "python3"
    },
    "language_info": {
      "name": "python"
    }
  },
  "nbformat": 4,
  "nbformat_minor": 0
}